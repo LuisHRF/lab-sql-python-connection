{
 "cells": [
  {
   "cell_type": "code",
   "execution_count": 7,
   "metadata": {},
   "outputs": [],
   "source": [
    "from sqlalchemy import create_engine\n",
    "import pymysql\n",
    "import pandas as pd\n",
    "from functions import *\n",
    "import os\n",
    "from dotenv import load_dotenv\n"
   ]
  },
  {
   "cell_type": "code",
   "execution_count": 8,
   "metadata": {},
   "outputs": [],
   "source": [
    "load_dotenv()\n",
    "\n",
    "username = os.getenv('DB_USER')\n",
    "password = os.getenv('DB_PASSWORD')\n",
    "host = os.getenv('DB_HOST')\n",
    "db_name = os.getenv('DB_NAME')\n",
    "\n",
    "DATABASE_URI = f'mysql+pymysql://{username}:{password}@{host}/{db_name}'\n",
    "engine = create_engine(DATABASE_URI)\n",
    "\n"
   ]
  },
  {
   "cell_type": "code",
   "execution_count": 9,
   "metadata": {},
   "outputs": [
    {
     "name": "stdout",
     "output_type": "stream",
     "text": [
      "      rental_id         rental_date  customer_id\n",
      "0             1 2005-05-24 22:53:30          130\n",
      "1             2 2005-05-24 22:54:33          459\n",
      "2             3 2005-05-24 23:03:39          408\n",
      "3             4 2005-05-24 23:04:41          333\n",
      "4             5 2005-05-24 23:05:21          222\n",
      "...         ...                 ...          ...\n",
      "1151       1153 2005-05-31 21:36:44          506\n",
      "1152       1154 2005-05-31 21:42:09           59\n",
      "1153       1155 2005-05-31 22:17:11          251\n",
      "1154       1156 2005-05-31 22:37:34          106\n",
      "1155       1157 2005-05-31 22:47:45           61\n",
      "\n",
      "[1156 rows x 3 columns]       rental_id         rental_date  customer_id\n",
      "0          1158 2005-06-14 22:53:33          416\n",
      "1          1159 2005-06-14 22:55:13          516\n",
      "2          1160 2005-06-14 23:00:34          239\n",
      "3          1161 2005-06-14 23:07:08          285\n",
      "4          1162 2005-06-14 23:09:38          310\n",
      "...         ...                 ...          ...\n",
      "2306       3465 2005-06-21 22:10:01          510\n",
      "2307       3466 2005-06-21 22:13:33          226\n",
      "2308       3467 2005-06-21 22:19:25          543\n",
      "2309       3468 2005-06-21 22:43:45          100\n",
      "2310       3469 2005-06-21 22:48:59          181\n",
      "\n",
      "[2311 rows x 3 columns]\n"
     ]
    }
   ],
   "source": [
    "df_may = rentals_month(engine, 5, 2005)\n",
    "df_june = rentals_month(engine, 6, 2005)\n",
    "\n",
    "print(df_may,df_june)"
   ]
  },
  {
   "cell_type": "code",
   "execution_count": 10,
   "metadata": {},
   "outputs": [
    {
     "name": "stdout",
     "output_type": "stream",
     "text": [
      "     customer_id  rentals_05_2005\n",
      "0              1                2\n",
      "1              2                1\n",
      "2              3                2\n",
      "3              5                3\n",
      "4              6                3\n",
      "..           ...              ...\n",
      "515          594                4\n",
      "516          595                1\n",
      "517          596                6\n",
      "518          597                2\n",
      "519          599                1\n",
      "\n",
      "[520 rows x 2 columns]      customer_id  rentals_06_2005\n",
      "0              1                7\n",
      "1              2                1\n",
      "2              3                4\n",
      "3              4                6\n",
      "4              5                5\n",
      "..           ...              ...\n",
      "585          595                2\n",
      "586          596                2\n",
      "587          597                3\n",
      "588          598                1\n",
      "589          599                4\n",
      "\n",
      "[590 rows x 2 columns]\n"
     ]
    }
   ],
   "source": [
    "rentals_may = rental_count_month(df_may, 5, 2005)\n",
    "rentals_june = rental_count_month(df_june, 6, 2005)\n",
    "\n",
    "print(rentals_may, rentals_june)"
   ]
  },
  {
   "cell_type": "code",
   "execution_count": 11,
   "metadata": {},
   "outputs": [
    {
     "name": "stdout",
     "output_type": "stream",
     "text": [
      "     customer_id  rentals_05_2005  rentals_06_2005  difference\n",
      "0              1              2.0              7.0        -5.0\n",
      "1              2              1.0              1.0         0.0\n",
      "2              3              2.0              4.0        -2.0\n",
      "3              4              0.0              6.0        -6.0\n",
      "4              5              3.0              5.0        -2.0\n",
      "..           ...              ...              ...         ...\n",
      "593          595              1.0              2.0        -1.0\n",
      "594          596              6.0              2.0         4.0\n",
      "595          597              2.0              3.0        -1.0\n",
      "596          598              0.0              1.0        -1.0\n",
      "597          599              1.0              4.0        -3.0\n",
      "\n",
      "[598 rows x 4 columns]\n"
     ]
    }
   ],
   "source": [
    "comparison_df = compare_rentals(rentals_may, rentals_june)\n",
    "\n",
    "print(comparison_df)"
   ]
  }
 ],
 "metadata": {
  "kernelspec": {
   "display_name": "base",
   "language": "python",
   "name": "python3"
  },
  "language_info": {
   "codemirror_mode": {
    "name": "ipython",
    "version": 3
   },
   "file_extension": ".py",
   "mimetype": "text/x-python",
   "name": "python",
   "nbconvert_exporter": "python",
   "pygments_lexer": "ipython3",
   "version": "3.10.11"
  }
 },
 "nbformat": 4,
 "nbformat_minor": 2
}
